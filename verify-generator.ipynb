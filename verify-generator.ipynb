{
 "cells": [
  {
   "cell_type": "code",
   "execution_count": 3,
   "metadata": {},
   "outputs": [],
   "source": [
    "from typing import (\n",
    "    Annotated,\n",
    "    Sequence,\n",
    "    TypedDict,\n",
    "    Union,\n",
    "    List\n",
    ")\n",
    "from langchain_core.messages import BaseMessage\n",
    "from langgraph.graph.message import add_messages\n",
    "from langchain_community.tools import DuckDuckGoSearchResults\n",
    "from langgraph.prebuilt import ToolNode\n",
    "from langchain_community.utilities import DuckDuckGoSearchAPIWrapper\n",
    "from langchain_ollama import ChatOllama\n",
    "from langchain_core.messages import ToolMessage,SystemMessage\n",
    "from langchain_core.runnables import RunnableConfig\n",
    "import json\n",
    "from pydantic import BaseModel, Field\n",
    "\n",
    "\n",
    "class AgentState(TypedDict):\n",
    "    \"\"\"The state of the agent.\"\"\"\n",
    "\n",
    "    # add_messages is a reducer\n",
    "    # See https://langchain-ai.github.io/langgraph/concepts/low_level/#reducers\n",
    "    messages: Annotated[Sequence[BaseMessage], add_messages]\n",
    "    generated_exps: dict\n",
    "    exp_title:str\n",
    "    reward:Union[int,float]\n",
    "\n",
    "\n",
    "wrapper = DuckDuckGoSearchAPIWrapper(max_results=10)\n",
    "search = DuckDuckGoSearchResults(api_wrapper=wrapper, output_format='list')\n",
    "\n",
    "tools = [search]\n",
    "\n",
    "model = ChatOllama(model=\"jacob-ebey/phi4-tools:latest\",base_url=\"192.168.23.138:11439\")\n",
    "model = model.bind_tools(tools)"
   ]
  },
  {
   "cell_type": "code",
   "execution_count": 1,
   "metadata": {},
   "outputs": [],
   "source": [
    "system_prompt = '''You are a Verifier AI responsible for checking the accuracy of experimental steps across various scientific and technical domains. Your task is to verify whether each step is correct by using reasonable web searches.\n",
    "\n",
    "For each step in the experiment, you will:\n",
    "\n",
    "Identify the key concept(s) involved.\n",
    "Generate an appropriate search query to verify the correctness of the step.\n",
    "Validate the step by using the search results to confirm or correct the instruction.\n",
    "Your output should be structured in JSON format with the following fields:\n",
    "\n",
    "\"step\": The step as given in the experiment.\n",
    "\"search_query\": The phrase or keywords you would search on the web to verify the step.\n",
    "\"verification\": The expected correct verification result based on technical knowledge and search results.\n",
    "Be precise, factual, and ensure that the verification aligns with established scientific and technical principles.'''"
   ]
  },
  {
   "cell_type": "code",
   "execution_count": null,
   "metadata": {},
   "outputs": [],
   "source": [
    "class verifierBase(BaseModel):\n",
    "    step: str = Field(...,description=\"The step as given in the experiment.\")\n",
    "    search_query: str = Field(...,description=\"The phrase or keywords you would search on the web to verify the step.\")\n",
    "    verification: str = Field(...,description=\"The expected correct verification result based on technical knowledge and search results.\")\n",
    "class verifierStructure(BaseModel):\n",
    "    steps: List[verifierBase] = Field(..., description=\"A list of verification steps, each containing step details, search query, and verification result.\")\n",
    "\n",
    "\n",
    "def generator(state:AgentState):\n"
   ]
  }
 ],
 "metadata": {
  "kernelspec": {
   "display_name": ".venv",
   "language": "python",
   "name": "python3"
  },
  "language_info": {
   "codemirror_mode": {
    "name": "ipython",
    "version": 3
   },
   "file_extension": ".py",
   "mimetype": "text/x-python",
   "name": "python",
   "nbconvert_exporter": "python",
   "pygments_lexer": "ipython3",
   "version": "3.12.2"
  }
 },
 "nbformat": 4,
 "nbformat_minor": 2
}
