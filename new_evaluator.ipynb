{
 "cells": [
  {
   "cell_type": "code",
   "execution_count": 29,
   "metadata": {},
   "outputs": [],
   "source": [
    "from pydantic import BaseModel, Field\n",
    "from typing import TypedDict,Annotated,Union,Dict\n",
    "from langchain_ollama import ChatOllama\n",
    "from langgraph.graph import START,StateGraph,END,MessagesState\n",
    "from langgraph.graph.message import add_messages\n",
    "from langchain_core.messages import HumanMessage,AnyMessage,BaseMessage\n",
    "from langchain_core.runnables import RunnableConfig\n",
    "import json\n",
    "model = \"jacob-ebey/phi4-tools:latest\"\n",
    "llm = ChatOllama(model=model,base_url=\"192.168.23.138:11439\")"
   ]
  },
  {
   "cell_type": "code",
   "execution_count": 30,
   "metadata": {},
   "outputs": [],
   "source": [
    "class State(TypedDict):\n",
    "    messages : Annotated[list[BaseMessage], add_messages]\n",
    "    CustomSystemPrompt : str\n",
    "    \n"
   ]
  },
  {
   "cell_type": "code",
   "execution_count": 31,
   "metadata": {},
   "outputs": [],
   "source": [
    "def SystemPromptCreator(state:State,config:RunnableConfig):\n",
    "    return {'messages': [llm.invoke(state['messages'])]}\n"
   ]
  },
  {
   "cell_type": "code",
   "execution_count": 32,
   "metadata": {},
   "outputs": [],
   "source": [
    "build = StateGraph(State)\n",
    "build.add_node(\"prompt\",SystemPromptCreator)\n",
    "\n",
    "build.add_edge(START,\"prompt\")\n",
    "build.add_edge(\"prompt\",END)\n",
    "graph = build.compile()"
   ]
  },
  {
   "cell_type": "code",
   "execution_count": 33,
   "metadata": {},
   "outputs": [
    {
     "data": {
      "text/plain": [
       "{'messages': [HumanMessage(content='{ \"experiments\": [ { \"title\": \"To set up and test a unity gain amplifier using an IC 741 operational amplifier\", \"objective\": \"To set up and test a unity gain amplifier using an IC 741 operational amplifier\", \"materials\": [ \"Operational Amplifier IC (LM741)\", \"Variable Resistor (10KΩ)\", \"Resistor (1KΩ)\", \"Input Signal Source (Function Generator)\", \"Connecting Wires\", \"Power Supply (9V)\" ], \"procedure\": { \"power_supply_connections\": [ \"Connect the positive terminal of the battery to pin 7 (V+) of the IC 741\", \"Connect the negative terminal of the battery to pin 4 (V-) of the IC 741\" ], \"input_signal_setup\": [ \"Attach one end of the potentiometer to the positive supply voltage\", \"Connect the wiper (middle terminal) of the potentiometer to pin 3 (non-inverting input) of the op-amp\", \"Connect the other end of the potentiometer to ground\" ], \"feedback_loop\": [ \"Connect a wire from pin 6 (output) directly to pin 2 (inverting input)\" ], \"load_resistor_connection\": [ \"Attach one terminal of the 1 kΩ resistor to pin 6 (output)\", \"Connect the other terminal of the resistor to ground\" ], \"biasing_and_stability\": [ \"Ensure pins 4 (V-) and 7 (V+) are properly connected for stable operation\", \"If necessary, connect a capacitor across V+ and V- for power supply decoupling\" ], \"testing_the_circuit\": [ \"Turn on the power supply and adjust the potentiometer to vary the input voltage\", \"Measure the output voltage at pin 6 with a voltmeter\", \"Verify that the output voltage matches the input voltage\" ] }, \"analysis\": [ \"Verify that the output voltage matches the input voltage, confirming the unity gain configuration\", \"Discuss the importance of negative feedback in achieving unity gain\", \"Analyze the effect of the variable resistor on the input voltage and output voltage\", \"Examine the role of the load resistor in the circuit and its impact on the output voltage\" ] } ] } \\n you are a experiment analysier based on the Ground truth above find out the key points to ensure that you judge other experiment with the above ground truth and make a system prompt out of it', additional_kwargs={}, response_metadata={}, id='8c0c2e6b-4688-44a3-a437-3625c4c0c6c3'),\n",
       "  AIMessage(content=\"To create a systematic approach for analyzing experiments similar to the one described, we need to identify key components and steps that are essential for ensuring accurate judgment. Here's how you can structure your analysis based on the provided ground truth:\\n\\n### Key Points for Analysis\\n\\n1. **Objective Clarity**:\\n   - Ensure the experiment has a clear objective, such as setting up and testing a unity gain amplifier using an IC 741 operational amplifier.\\n\\n2. **Materials Verification**:\\n   - Confirm that all necessary materials are listed and available: Operational Amplifier IC (LM741), Variable Resistor (10KΩ), Resistor (1KΩ), Input Signal Source, Connecting Wires, Power Supply (9V).\\n\\n3. **Procedure Accuracy**:\\n   - Check the correctness of power supply connections to pins 7 (V+) and 4 (V-).\\n   - Verify input signal setup: potentiometer connection to V+, wiper to pin 3, and other end to ground.\\n   - Ensure feedback loop is correctly established by connecting pin 6 (output) to pin 2 (inverting input).\\n   - Confirm load resistor connection from pin 6 to ground.\\n\\n4. **Biasing and Stability**:\\n   - Validate that pins for power supply are properly connected.\\n   - Check if a capacitor is used across V+ and V- for decoupling, if necessary.\\n\\n5. **Testing Protocol**:\\n   - Ensure the procedure includes turning on the power supply, adjusting the potentiometer, measuring output voltage, and verifying unity gain (output matches input).\\n\\n6. **Analysis Components**:\\n   - Confirm analysis includes verification of output matching input voltage.\\n   - Discuss the role of negative feedback in achieving unity gain.\\n   - Analyze the impact of the variable resistor on input/output voltages.\\n   - Examine the load resistor's role and its effect on the circuit.\\n\\n### Systematic Prompt for Analysis\\n\\nTo analyze an experiment based on the provided ground truth, follow these steps:\\n\\n1. **Objective Review**:\\n   - Confirm that the objective is clearly stated and aligns with setting up a unity gain amplifier using IC 741.\\n\\n2. **Materials Checklist**:\\n   - Cross-check all listed materials against those required for the experiment.\\n\\n3. **Procedure Validation**:\\n   - Ensure each step in the procedure is correctly followed, focusing on connections and configurations.\\n   - Pay special attention to power supply connections, input signal setup, feedback loop, and load resistor connection.\\n\\n4. **Biasing and Stability Check**:\\n   - Verify proper biasing of the op-amp and stability measures like decoupling capacitors.\\n\\n5. **Testing Confirmation**:\\n   - Ensure testing involves adjusting input voltage via potentiometer and measuring output to confirm unity gain.\\n\\n6. **Comprehensive Analysis**:\\n   - Analyze results by confirming output matches input.\\n   - Discuss feedback mechanisms, variable resistor effects, and load resistor impact.\\n\\nBy following this structured approach, you can systematically evaluate experiments similar to the one described, ensuring thoroughness and accuracy in your analysis.\", additional_kwargs={}, response_metadata={'model': 'jacob-ebey/phi4-tools:latest', 'created_at': '2025-02-23T17:03:32.250249008Z', 'done': True, 'done_reason': 'stop', 'total_duration': 8825902851, 'load_duration': 9946445, 'prompt_eval_count': 516, 'prompt_eval_duration': 27000000, 'eval_count': 625, 'eval_duration': 8788000000, 'message': Message(role='assistant', content='', images=None, tool_calls=None)}, id='run-b682543d-4cda-46e2-b52c-4cd25b02876d-0', usage_metadata={'input_tokens': 516, 'output_tokens': 625, 'total_tokens': 1141})],\n",
       " 'CustomSystemPrompt': ''}"
      ]
     },
     "execution_count": 33,
     "metadata": {},
     "output_type": "execute_result"
    }
   ],
   "source": [
    "qurey ='''{ \"experiments\": [ { \"title\": \"To set up and test a unity gain amplifier using an IC 741 operational amplifier\", \"objective\": \"To set up and test a unity gain amplifier using an IC 741 operational amplifier\", \"materials\": [ \"Operational Amplifier IC (LM741)\", \"Variable Resistor (10KΩ)\", \"Resistor (1KΩ)\", \"Input Signal Source (Function Generator)\", \"Connecting Wires\", \"Power Supply (9V)\" ], \"procedure\": { \"power_supply_connections\": [ \"Connect the positive terminal of the battery to pin 7 (V+) of the IC 741\", \"Connect the negative terminal of the battery to pin 4 (V-) of the IC 741\" ], \"input_signal_setup\": [ \"Attach one end of the potentiometer to the positive supply voltage\", \"Connect the wiper (middle terminal) of the potentiometer to pin 3 (non-inverting input) of the op-amp\", \"Connect the other end of the potentiometer to ground\" ], \"feedback_loop\": [ \"Connect a wire from pin 6 (output) directly to pin 2 (inverting input)\" ], \"load_resistor_connection\": [ \"Attach one terminal of the 1 kΩ resistor to pin 6 (output)\", \"Connect the other terminal of the resistor to ground\" ], \"biasing_and_stability\": [ \"Ensure pins 4 (V-) and 7 (V+) are properly connected for stable operation\", \"If necessary, connect a capacitor across V+ and V- for power supply decoupling\" ], \"testing_the_circuit\": [ \"Turn on the power supply and adjust the potentiometer to vary the input voltage\", \"Measure the output voltage at pin 6 with a voltmeter\", \"Verify that the output voltage matches the input voltage\" ] }, \"analysis\": [ \"Verify that the output voltage matches the input voltage, confirming the unity gain configuration\", \"Discuss the importance of negative feedback in achieving unity gain\", \"Analyze the effect of the variable resistor on the input voltage and output voltage\", \"Examine the role of the load resistor in the circuit and its impact on the output voltage\" ] } ] } \\n you are a experiment analysier based on the Ground truth above find out the key points to ensure that you judge other experiment with the above ground truth and make a system prompt out of it'''\n",
    "inputs = {\"messages\": [(\"user\", qurey)]}\n",
    "graph.invoke({\"messages\":qurey,\"CustomSystemPrompt\":\"\"})\n",
    "# print(graph.state[\"CustomSystemPrompt\"])"
   ]
  },
  {
   "cell_type": "code",
   "execution_count": null,
   "metadata": {},
   "outputs": [],
   "source": []
  }
 ],
 "metadata": {
  "kernelspec": {
   "display_name": ".venv",
   "language": "python",
   "name": "python3"
  },
  "language_info": {
   "codemirror_mode": {
    "name": "ipython",
    "version": 3
   },
   "file_extension": ".py",
   "mimetype": "text/x-python",
   "name": "python",
   "nbconvert_exporter": "python",
   "pygments_lexer": "ipython3",
   "version": "3.12.9"
  }
 },
 "nbformat": 4,
 "nbformat_minor": 2
}
