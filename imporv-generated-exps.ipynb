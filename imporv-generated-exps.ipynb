{
 "cells": [
  {
   "cell_type": "code",
   "execution_count": 15,
   "metadata": {},
   "outputs": [],
   "source": [
    "from typing import (\n",
    "    Annotated,\n",
    "    Sequence,\n",
    "    TypedDict,\n",
    "    Union,\n",
    "    List\n",
    ")\n",
    "from langchain_core.messages import BaseMessage\n",
    "from langgraph.graph.message import add_messages\n",
    "from langchain_community.tools import DuckDuckGoSearchResults\n",
    "from langgraph.prebuilt import ToolNode\n",
    "from langchain_community.utilities import DuckDuckGoSearchAPIWrapper\n",
    "from langchain_ollama import ChatOllama\n",
    "from langchain_core.messages import ToolMessage,SystemMessage\n",
    "from langchain_core.runnables import RunnableConfig\n",
    "from pydantic import BaseModel, Field\n",
    "from langchain_community.tools import WikipediaQueryRun\n",
    "from langchain_community.utilities import WikipediaAPIWrapper\n",
    "import json\n",
    "\n",
    "class VerifierBase(BaseModel):\n",
    "    step: str = Field(..., description=\"The step as given in the experiment.\")\n",
    "    search_query: str = Field(..., description=\"The phrase or keywords you would search on the web to verify the step.\")\n",
    "    verification: str = Field(..., description=\"The expected correct verification result based on technical knowledge and search results.\")\n",
    "\n",
    "class VerifierStructure(BaseModel):\n",
    "    steps: List[VerifierBase] = Field(..., description=\"A list of verification steps, each containing step details, search query, and verification result.\")\n",
    "\n",
    "class AgentState(TypedDict):\n",
    "    \"\"\"The state of the agent.\"\"\"\n",
    "\n",
    "    # add_messages is a reducer\n",
    "    # See https://langchain-ai.github.io/langgraph/concepts/low_level/#reducers\n",
    "    messages: Annotated[Sequence[BaseMessage], add_messages]\n",
    "    generated_exps: dict\n",
    "    exp_title:str\n",
    "    reward:Union[int,float]\n",
    "    verified_structure: list\n",
    "    tool_results : dict\n",
    "\n",
    "wikipedia = WikipediaQueryRun(api_wrapper=WikipediaAPIWrapper())\n",
    "wrapper = DuckDuckGoSearchAPIWrapper(max_results=3)\n",
    "search = DuckDuckGoSearchResults(api_wrapper=wrapper, output_format='list')\n",
    "\n",
    "tools = [search,wikipedia]\n",
    "\n",
    "model = ChatOllama(model=\"qwen2.5:32b\",base_url=\"192.168.23.138:11439\")\n",
    "tool_model = model.bind_tools(tools)\n",
    "verifier_model = model.with_structured_output(VerifierStructure,method='json_schema')"
   ]
  },
  {
   "cell_type": "code",
   "execution_count": 16,
   "metadata": {},
   "outputs": [],
   "source": [
    "verifier_system_prompt = '''You are a Verifier AI responsible for checking the accuracy of experimental steps across various scientific and technical domains. Your task is to verify whether each step is correct by using reasonable web searches.\n",
    "\n",
    "For each step in the experiment, you will:\n",
    "\n",
    "Identify the key concept(s) involved.\n",
    "Generate an appropriate search query to verify the correctness of the step.\n",
    "Validate the step by using the search results to confirm or correct the instruction.\n",
    "Your output should be structured in JSON format with the following fields:\n",
    "\n",
    "\"step\": The step as given in the experiment.\n",
    "\"search_query\": The phrase or keywords you would search on the web to verify the step.\n",
    "\"verification\": The expected correct verification result based on technical knowledge and search results.\n",
    "Be precise, factual, and ensure that the verification aligns with established scientific and technical principles'''"
   ]
  },
  {
   "cell_type": "code",
   "execution_count": 17,
   "metadata": {},
   "outputs": [],
   "source": [
    "def seed_generator(state:AgentState):\n",
    "    exp_generated = model.invoke(state['messages'])\n",
    "    return {\"generated_exps\":{state[\"exp_title\"]:exp_generated.content}}\n",
    "\n",
    "def verifier_generator(state:AgentState):\n",
    "    system_prompt = SystemMessage(verifier_system_prompt)\n",
    "    struct = verifier_model.invoke([system_prompt]+[str(state[\"generated_exps\"])])\n",
    "    # print(struct.steps)\n",
    "    \n",
    "    return {\"verified_structure\":struct.steps}\n",
    "tools_by_name = {tool.name: tool for tool in tools}\n",
    "def tool_decider_node(state:AgentState):\n",
    "    system_prompt = '''you are given the following \n",
    "    1. step: which a step from the experiment\n",
    "    2. search_query: the query which you have to search \n",
    "    you have to make a tool call or tool calls(multiple) which might give the best possible answer try to use all tools which are provided'''\n",
    "    all_step_tool_results =[]\n",
    "    for s in state['verified_structure']:\n",
    "        query = dict(s)\n",
    "        query.pop('verification')\n",
    "        tool_results = {\"step\": query[\"step\"]}\n",
    "        resp = tool_model.invoke([SystemMessage(system_prompt)]+ [str(query)])\n",
    "        all_step_tool_results.append(tool_results)\n",
    "        for tool_call in resp.tool_calls:\n",
    "            tool_result = tools_by_name[tool_call[\"name\"]].invoke(tool_call[\"args\"])\n",
    "            if tool_call[\"name\"] == 'duckduckgo_results_json':\n",
    "                \n",
    "                snippets = []\n",
    "                for snippet in tool_result:\n",
    "                    snippets.append(snippet['snippet'])\n",
    "                tool_results.update({\"duckduckgo\": snippets})\n",
    "            elif tool_call[\"name\"] == \"wikipedia\":\n",
    "                # print(type(tool_result))\n",
    "                tool_results.update({\"wiki\": tool_result})\n",
    "            # print(tool_result)\n",
    "        \n",
    "    return{\"tool_results\":all_step_tool_results}"
   ]
  },
  {
   "cell_type": "code",
   "execution_count": 18,
   "metadata": {},
   "outputs": [],
   "source": [
    "from langgraph.graph import StateGraph, END\n",
    "workflow = StateGraph(AgentState)\n",
    "workflow.add_node(\"generator\",seed_generator)\n",
    "workflow.add_node(\"verifier\",verifier_generator)\n",
    "workflow.add_node(\"toolcaller\",tool_decider_node)\n",
    "workflow.set_entry_point(\"generator\")\n",
    "workflow.set_finish_point(\"toolcaller\")\n",
    "workflow.add_edge(\"generator\",\"verifier\")\n",
    "workflow.add_edge(\"verifier\",\"toolcaller\")\n",
    "graph = workflow.compile()"
   ]
  },
  {
   "cell_type": "code",
   "execution_count": 19,
   "metadata": {},
   "outputs": [],
   "source": [
    "exp = \"To set up and test a unity gain amplifier using an IC 741 operational amplifier.\"\n",
    "\n",
    "query = f\"what should be the required materials and experiment procedure of the following lab Experiment ({exp})?\"\n",
    "def print_stream(stream):\n",
    "    for s in stream:\n",
    "        message = s[\"messages\"][-1]\n",
    "        if isinstance(message, tuple):\n",
    "            print(message)\n",
    "        else:\n",
    "            message.pretty_print()\n",
    "\n",
    "\n",
    "inputs = {\"messages\": [(\"user\", query)], \"exp_title\":exp,\"verified_structure\":[]}\n",
    "final = graph.invoke(inputs)\n",
    "# print_stream(graph.stream(inputs, stream_mode=\"values\"))"
   ]
  },
  {
   "cell_type": "code",
   "execution_count": 27,
   "metadata": {},
   "outputs": [
    {
     "data": {
      "text/plain": [
       "[{'step': 'Insert the IC 741 into the breadboard ensuring that pin 1 (the offset null) is oriented correctly.',\n",
       "  'duckduckgo': [\"Pinout Of IC 741 Op Amp (Pin Diagram) An IC 741 op-amp package consists of 8 pins. The below IC 741 Pin Diagram illustrates the pin configurations and internal block diagram of IC 741 in 8 pin DIP and TO5-8 metal can package. 741 IC Op Amplifier Circuit Functions. Now let's take a look at the functions of different pins of 741 IC op-amp circuits:\",\n",
       "   'The steps to build the non-inverting op amp circuit are to first place IC 741 on the breadboard. Connect pin 3 directly to the signal source. Connect pin 3 to the ground through resistor R1. Connect pin 6 to pin 3 via resistor Rf. Connect pin 4 to ground and pin 7 to +15V. Apply a test signal and observe the amplified output on an oscilloscope.',\n",
       "   'An in-depth overview of 741 Op Amp IC, its characteristics, pin configuration, and applications. Understand its parameters and how it compares to alternatives like the LM358. ... It is encapsulated in an 8-pin dual in-line package (DIP), making it suitable for breadboard prototyping and PCB applications. Key Features of the 741 Op Amp IC. 1 ...',\n",
       "   'The IC 741 operational amplifier is a widely used electronic component designed to amplify and process analog signals. It is known for its flexibility, reliability, and ease of use, making it a go-to choice for various applications like signal amplification, integration, and differentiation. This article covers its features, pin configuration, applications, and working principles in detail.'],\n",
       "  'wiki': \"Page: Operational amplifier\\nSummary: An operational amplifier (often op amp or opamp) is a DC-coupled electronic voltage amplifier with a differential input, a (usually) single-ended output, and an extremely high gain. Its name comes from its original use of performing mathematical operations in analog computers. \\nBy using negative feedback, an op amp circuit's characteristics (e.g. its gain, input and output impedance, bandwidth, and functionality) can be determined by external components and have little dependence on temperature coefficients or engineering tolerance in the op amp itself. This flexibility has made the op amp a popular building block in analog circuits.\\nToday, op amps are used widely in consumer, industrial, and scientific electronics. Many standard integrated circuit op amps cost only a few cents; however, some integrated or hybrid operational amplifiers with special performance specifications may cost over US$100. Op amps may be packaged as components or used as elements of more complex integrated circuits.\\nThe op amp is one type of differential amplifier. Other differential amplifier types include the fully differential amplifier (an op amp with a differential rather than single-ended output), the instrumentation amplifier (usually built from three op amps), the isolation amplifier (with galvanic isolation between input and output), and negative-feedback amplifier (usually built from one or more op amps and a resistive feedback network).\"},\n",
       " {'step': 'Connect pin 4 of the IC to ground (0V).',\n",
       "  'duckduckgo': ['The number 741 indicates that this operational amplifier IC has 7 functional pins, 4 pins capable of taking input and 1 output pin. IC 741 OpAmp can provide high voltage gain and can be operated over a wide range of voltages, which makes it the best choice for use in integrators, summing amplifiers and general feedback applications.',\n",
       "   'The number 741 in the name indicates that there are 7 active pins, 4 pins (pin 2,3,4,7) are capable of taking input and 1 pin ( pin 6) is an output pin. The triangular form in the IC represents an op-amp integrated circuit. The functionality of each pin is as follows: Power Supply Pins (Pin 4 and Pin 7):',\n",
       "   \"Pin 5—No connection; Pin 6—Output; Pin 7—Positive Supply; ... The LM741's pin 4 negative supply is connected to the ground, meaning it only uses a positive power supply. ... Automatic Night light circuit using LDR and IC-741; Active bass booster circuit using 741; Automatic Op-amp night light circuit using 741 . GET UPDATE VIA EMAIL.\",\n",
       "   'The 741 OP AMP comes in a standard 8-pin DIP package, with each pin serving a specific function: Pin 1 ... Pin 4 (V-): The negative power supply terminal ... Pin 8 (No Connection): Generally not connected internally, can be left unused. Function of Each Pin. Offset Null (Pins 1 and 5): Allows fine-tuning of the output to eliminate offset voltage.'],\n",
       "  'wiki': 'Page: Operational amplifier\\nSummary: An operational amplifier (often op amp or opamp) is a DC-coupled electronic voltage amplifier with a differential input, a (usually) single-ended output, and an extremely high gain. Its name comes from its original use of performing mathematical operations in analog computers. \\nBy using negative feedback, an op amp circuit\\'s characteristics (e.g. its gain, input and output impedance, bandwidth, and functionality) can be determined by external components and have little dependence on temperature coefficients or engineering tolerance in the op amp itself. This flexibility has made the op amp a popular building block in analog circuits.\\nToday, op amps are used widely in consumer, industrial, and scientific electronics. Many standard integrated circuit op amps cost only a few cents; however, some integrated or hybrid operational amplifiers with special performance specifications may cost over US$100. Op amps may be packaged as components or used as elements of more complex integrated circuits.\\nThe op amp is one type of differential amplifier. Other differential amplifier types include the fully differential amplifier (an op amp with a differential rather than single-ended output), the instrumentation amplifier (usually built from three op amps), the isolation amplifier (with galvanic isolation between input and output), and negative-feedback amplifier (usually built from one or more op amps and a resistive feedback network).\\n\\nPage: AIM-9 Sidewinder\\nSummary: The AIM-9 Sidewinder is a short-range air-to-air missile. Entering service with the United States Navy in 1956 and the Air Force in 1964, the AIM-9 is one of the oldest, cheapest, and most successful air-to-air missiles. Its latest variants remain standard equipment in most Western-aligned air forces. The Soviet K-13 (AA-2 \"Atoll\"), a reverse-engineered copy of the AIM-9B, was also widely adopted.\\nLow-level development started in the late 1940s, emerging in the early 1950s as a guidance system for the modular Zuni rocket. This modularity allowed for the introduction of newer seekers and rocket motors, including the AIM-9C variant, which used semi-active radar homing and served as the basis of the AGM-122 Sidearm anti-radar missile. Due to the Sidewinder\\'s infrared guidance system, the brevity code \"Fox two\" is used when firing the AIM-9. Originally a tail-chasing system, early models saw extensive use during the Vietnam War, but had a low success rate (8% hit rate with the AIM-9E variant). This led to all-aspect capability in the L (Lima) version, which proved an effective weapon during the 1982 Falklands War and Operation Mole Cricket 19 in Lebanon. Its adaptability has kept it in service over newer designs like the AIM-95 Agile and SRAAM that were intended to replace it.\\nThe Sidewinder is the most widely used air-to-air missile in the West, with more than 110,000 missiles produced for the U.S. and 27 other nations, of which perhaps one percent have been used in combat. It has been built under license by Sweden and other nations. The AIM-9 has an estimated 270 aircraft kills.\\nIn 2010, Boeing won a contract to support Sidewinder operations through to 2055. In 2021 an Air Force spokesperson said that its relatively low cost, versatility, and reliability mean it is \"very possible that the Sidewinder will remain in Air Force inventories through the late 21st century\".\\n\\nPage: Video camera tube\\nSummary: Video camera tubes are devices based on the cathode-ray tube that were used in television cameras to capture television images, prior to the introduction of charge-coupled device (CCD) image sensors in the 1980s. Several different types of tubes were in use from the early 1930s, and as late as the 1990s.\\nIn these tubes, an electron beam is scanned across an image of the scene to be broadcast focused on a target. This generated a current that is dependent on the brightness of the image on the target at the scan point. The size of the striking ray i'},\n",
       " {'step': 'Pin 2 should be connected to your input signal through one resistor, and also connect this same resistor from pin 3 (output) back to pin 2.',\n",
       "  'duckduckgo': ['A voltage follower is a unity-gain, noninverting buffer that requires only an operational amplifier (and a decoupling capacitor). It is simply a circuit in which output follows the input, which means output voltage remains the same as input voltage. An op-amp used in a voltage-follower configuration must be specified as \"unity-gain stable\".',\n",
       "   'If the value of feedback resistor R 2 is made 0, the gain equals 1 and the Op-Amp configuration behaves as a \"unity gain buffer\" or a voltage follower. 741 Op-Amp Circuits Applications. Below are the applications of IC 741 Op Amp across different use cases: Amplifiers: 741 IC is mostly used to amplify signals of varying frequencies ranging ...',\n",
       "   'In a non-inverting configuration, the negative input, or the inverting pin, is connected to the ground instead. ... Unity Gain Follower Or Buffer Circuit Using LM741. ... Automatic Night light circuit using LDR and IC-741; Active bass booster circuit using 741;',\n",
       "   'The operational amplifier in a voltage follower circuit produces an output voltage that precisely follows the input voltage.. It is also referred to as a buffer amplifier or unity gain amplifier. Because of its price and adaptability, the IC 741 is a popular option for op amp.. The high input impedance and low output impedance of a voltage follower are two of its main advantages.'],\n",
       "  'wiki': \"Page: Operational amplifier\\nSummary: An operational amplifier (often op amp or opamp) is a DC-coupled electronic voltage amplifier with a differential input, a (usually) single-ended output, and an extremely high gain. Its name comes from its original use of performing mathematical operations in analog computers. \\nBy using negative feedback, an op amp circuit's characteristics (e.g. its gain, input and output impedance, bandwidth, and functionality) can be determined by external components and have little dependence on temperature coefficients or engineering tolerance in the op amp itself. This flexibility has made the op amp a popular building block in analog circuits.\\nToday, op amps are used widely in consumer, industrial, and scientific electronics. Many standard integrated circuit op amps cost only a few cents; however, some integrated or hybrid operational amplifiers with special performance specifications may cost over US$100. Op amps may be packaged as components or used as elements of more complex integrated circuits.\\nThe op amp is one type of differential amplifier. Other differential amplifier types include the fully differential amplifier (an op amp with a differential rather than single-ended output), the instrumentation amplifier (usually built from three op amps), the isolation amplifier (with galvanic isolation between input and output), and negative-feedback amplifier (usually built from one or more op amps and a resistive feedback network).\"},\n",
       " {'step': 'Connect pin 7 (+Vcc) to +15V of the DC power supply and pin 8 (-Vcc) to -15V.',\n",
       "  'duckduckgo': ['This configuration is similar to the above circuit, the only difference being the output response, which is always equal to the polarity of the fed input voltage. ... Stabilized Power Supply Circuit Using opamp IC 741. ... The dual power supply circuit is actually simply an unity gain amplifier consisting of a high input impedance and a low ...',\n",
       "   'The 741 IC is widely used in analog electronics due to its stable performance and ease of use. It is encapsulated in an 8-pin dual in-line package (DIP), making it suitable for breadboard prototyping and PCB applications. Key Features of the 741 Op Amp IC. 1. high open-loop gain 2. wide input voltage range 3. dual power supply operation',\n",
       "   \"Now let's take a look at the functions of different pins of 741 IC op-amp circuits: Pin4 & Pin7 (Power Supply): Pin7 is the positive voltage supply terminal and Pin4 is the negative voltage supply terminal. The 741 IC draws in power for its operation from these pins. The voltage between these two pins can be anywhere between 5V and 18V.\",\n",
       "   'The Power Supply. An OP-AMP usually requires a dual-polarity power supply to operate; for the LM741, it is recommended for a 4.5V to 18V power supply. For long-term uses, you should use a proper dual-polarity power supply such as 7805-7905 dual regulator circuit or these.'],\n",
       "  'wiki': \"Page: Operational amplifier\\nSummary: An operational amplifier (often op amp or opamp) is a DC-coupled electronic voltage amplifier with a differential input, a (usually) single-ended output, and an extremely high gain. Its name comes from its original use of performing mathematical operations in analog computers. \\nBy using negative feedback, an op amp circuit's characteristics (e.g. its gain, input and output impedance, bandwidth, and functionality) can be determined by external components and have little dependence on temperature coefficients or engineering tolerance in the op amp itself. This flexibility has made the op amp a popular building block in analog circuits.\\nToday, op amps are used widely in consumer, industrial, and scientific electronics. Many standard integrated circuit op amps cost only a few cents; however, some integrated or hybrid operational amplifiers with special performance specifications may cost over US$100. Op amps may be packaged as components or used as elements of more complex integrated circuits.\\nThe op amp is one type of differential amplifier. Other differential amplifier types include the fully differential amplifier (an op amp with a differential rather than single-ended output), the instrumentation amplifier (usually built from three op amps), the isolation amplifier (with galvanic isolation between input and output), and negative-feedback amplifier (usually built from one or more op amps and a resistive feedback network).\"},\n",
       " {'step': 'Use your signal generator to produce an AC voltage output, which you will feed into pin 2 (the non-inverting input).',\n",
       "  'duckduckgo': ['It facilitates such as voltage control of frequency and ability to provide a signal wave or group of the wave. Function Generator Using IC 741 Op-Amp. Function generator system can be readily synthesized using operational amplifiers on an approach which uses full when the need for a special purpose generator arises or when a function generator ...',\n",
       "   '3) Function generator Using IC 741. This IC 741 based function generator circuit delivers increased test versatility compared to the typical sine wave signal generator, giving 1 kHz square and triangle waves together, and it is both low-cost and very simple to construct.',\n",
       "   'The LM741, LM741A, and LM741C—and their application-specific relative, µA741 or HA1741—are in the 741 series of operational amplifiers. They offer great performance compared to other OP-AMP ICs. Furthermore, they come with overload protection, which makes them easier and safer to use.',\n",
       "   'The positive terminal of one battery (+9V) connects to the V+ pin of the IC 741. The negative terminal of the other battery (-9V) connects to the V- pin of the IC 741. Input Signal: The function generator provides a sine wave input of 2V peak-to-peak. This signal passes through Rin and connects to the inverting input (-IN) of the IC 741 ...'],\n",
       "  'wiki': \"Page: Operational amplifier\\nSummary: An operational amplifier (often op amp or opamp) is a DC-coupled electronic voltage amplifier with a differential input, a (usually) single-ended output, and an extremely high gain. Its name comes from its original use of performing mathematical operations in analog computers. \\nBy using negative feedback, an op amp circuit's characteristics (e.g. its gain, input and output impedance, bandwidth, and functionality) can be determined by external components and have little dependence on temperature coefficients or engineering tolerance in the op amp itself. This flexibility has made the op amp a popular building block in analog circuits.\\nToday, op amps are used widely in consumer, industrial, and scientific electronics. Many standard integrated circuit op amps cost only a few cents; however, some integrated or hybrid operational amplifiers with special performance specifications may cost over US$100. Op amps may be packaged as components or used as elements of more complex integrated circuits.\\nThe op amp is one type of differential amplifier. Other differential amplifier types include the fully differential amplifier (an op amp with a differential rather than single-ended output), the instrumentation amplifier (usually built from three op amps), the isolation amplifier (with galvanic isolation between input and output), and negative-feedback amplifier (usually built from one or more op amps and a resistive feedback network).\\n\\nPage: Linear integrated circuit\\nSummary: A linear integrated circuit or analog chip is a set of miniature electronic analog circuits formed on a single piece of semiconductor material.\\n\\n\\n\\nPage: Bob Widlar\\nSummary: Robert John Widlar (pronounced wide-lar; November 30, 1937 – February 27, 1991) was an American electronics engineer and a designer of linear integrated circuits (ICs).\"},\n",
       " {'step': 'Connect oscilloscope probes to observe both input and output signals.',\n",
       "  'duckduckgo': ['Oscilloscopes are the #1 go-to instrument in engineering labs, producing accurate and reliable measurements for a variety of applications. However, even the most advanced oscilloscope can fall short without the right probing techniques. This cheat sheet will help you unleash the full potential of your oscilloscope and its probes.',\n",
       "   'This includes considering the connection to the oscilloscope input, the cable used, and any additional accessories or wiring involved. The white paper aims to educate readers about the potential pitfalls in their testing practices and provides guidance on how to improve measurements through better probing techniques.',\n",
       "   'To begin troubleshooting electronics with an oscilloscope, follow these steps to set up the device properly: Power On the Oscilloscope: Connect the oscilloscope to a power source and turn it on. Wait for the device to boot up and initialize before proceeding. Connect Probes: Attach the probes to the input channels on the oscilloscope.',\n",
       "   \"4. **Probe and Grounding**: Make sure you're using proper probing techniques with your oscilloscope probes. Improper grounding or probing can introduce noise or affect signal integrity. 5. **Timebase and Voltage Scale**: Adjust the timebase and voltage scale on your oscilloscope so that you can clearly see the rise or fall time of the output ...\"],\n",
       "  'wiki': 'Page: Oscilloscope\\nSummary: An oscilloscope (formerly known as an oscillograph, informally scope or O-scope) is a type of electronic test instrument that graphically displays varying voltages of one or more signals as a function of time. Their main purpose is capturing information on electrical signals for debugging, analysis, or characterization. The displayed waveform can then be analyzed for properties such as amplitude, frequency, rise time, time interval, distortion, and others. Originally, calculation of these values required manually measuring the waveform against the scales built into the screen of the instrument. Modern digital instruments may calculate and display these properties directly.\\n\\nOscilloscopes are used in the sciences, engineering, biomedical, automotive and the telecommunications industry. General-purpose instruments are used for maintenance of electronic equipment and laboratory work. Special-purpose oscilloscopes may be used to analyze an automotive ignition system or to display the waveform of the heartbeat as an electrocardiogram, for instance.\\n\\n\\n\\nPage: Test probe\\nSummary: A test probe is a physical device used to connect electronic test equipment to a device under test (DUT). Test probes range from very simple, robust devices to complex probes that are sophisticated, expensive, and fragile. Specific types include test prods, oscilloscope probes and current probes. A test probe is often supplied as a test lead, which includes the probe, cable and terminating connector.\\n\\nPage: Oscilloscope types\\nSummary: This is a subdivision of the Oscilloscope article, discussing the various types and models of oscilloscopes in greater detail.'},\n",
       " {'step': 'Compare the input and output signals for unity gain.',\n",
       "  'duckduckgo': [\"Since other OP AMPS doesn't use any composite loop, the max voltage compliance will not be met. But, if your application is not for an oscilloscope front end, and you are looking for any op amp that can give you unity gain response from DC-100MHz, you can go with OPA814 as suggested by Ignacio.\",\n",
       "   \"simulate this circuit - Schematic created using CircuitLab. A unity-gain amplifier (a.k.a. buffer) naturally has a very high (theoretically infinite) input impedance so if you use a buffer as a load then still most of the signal will drop across the load (buffer's input). The buffer normally uses a separate power source to shape the output ...\",\n",
       "   'Hi, I am under a internship and my supervisor wants me to practically measure the slew of AD8602ARMZ op-amp. I am aware that this value is available in the datasheet along with a well plotted graph, but my task here is to recreate the graph on the oscilloscope. So far I have read the basics of...',\n",
       "   \"A: No way. Rules of thumb says, that in order to have low THD device must have high Gain. To simply copy input to output using active device (G=+1) and keep -120dB THD, gain (capability - not current configuration) must be > 120dB. Inversion G=-1 doesn't play any role. And if gain +60dB required, and THD  180dB.\"],\n",
       "  'wiki': 'Page: Buffer amplifier\\nSummary: In electronics, a buffer amplifier is a unity gain amplifier that copies a signal from one circuit to another while transforming its electrical impedance to provide a more ideal source (with a lower output impedance for a voltage buffer or a higher output impedance for a current buffer). This \"buffers\" the signal source in the first circuit against being affected by currents from the electrical load of the second circuit and may simply be called a buffer or follower when context is clear.\\n\\nPage: Gain–bandwidth product\\nSummary: The gain–bandwidth product (designated as GBWP, GBW, GBP, or GB) for an amplifier is a figure of merit calculated by multiplying the amplifier\\'s bandwidth and the gain at which the bandwidth is measured.\\nFor devices such as operational amplifiers that are designed to have a simple one-pole frequency response, the gain–bandwidth product is nearly independent of the gain at which it is measured; in such devices the gain–bandwidth product will also be equal to the unity-gain bandwidth of the amplifier (the bandwidth within which the amplifier gain is at least 1).\\nFor an amplifier in which negative feedback reduces the gain to below the open-loop gain, the gain–bandwidth product of the closed-loop amplifier will be approximately equal to that of the open-loop amplifier.\\n\"The parameter characterizing the frequency dependence of the operational amplifier gain is the finite gain–bandwidth product (GB).\"\\n\\nPage: Transimpedance amplifier\\nSummary: In electronics, a transimpedance amplifier (TIA) is a current to voltage converter, almost exclusively implemented with one or more operational amplifiers. The TIA can be used to amplify the current output of Geiger–Müller tubes, photo multiplier tubes, accelerometers, photo detectors and other types of sensors to a usable voltage.    Current to voltage converters are used with sensors that have a current response that is more linear than the voltage response.   This is the case with photodiodes where it is not uncommon for the current response to have better than 1% nonlinearity over a wide range of light input. The transimpedance amplifier presents a low impedance to the photodiode and isolates it from the output voltage of the operational amplifier.   In its simplest form a transimpedance amplifier has just a large valued feedback resistor, Rf.   The gain of the amplifier is set by this resistor and because the amplifier is in an inverting configuration, has a value of -Rf.  There are several different configurations of transimpedance amplifiers, each suited to a particular application.   The one factor they all have in common is the requirement to convert the low-level current of a sensor to a voltage.   The gain, bandwidth, as well as current and voltage offsets change with different types of sensors, requiring different configurations of transimpedance amplifiers.'}]"
      ]
     },
     "execution_count": 27,
     "metadata": {},
     "output_type": "execute_result"
    }
   ],
   "source": [
    "final['tool_results']"
   ]
  },
  {
   "cell_type": "code",
   "execution_count": 23,
   "metadata": {},
   "outputs": [
    {
     "data": {
      "text/plain": [
       "7"
      ]
     },
     "execution_count": 23,
     "metadata": {},
     "output_type": "execute_result"
    }
   ],
   "source": [
    "len([dict(i) for i in final['verified_structure']])"
   ]
  },
  {
   "cell_type": "code",
   "execution_count": 25,
   "metadata": {},
   "outputs": [],
   "source": [
    "md_content = final['generated_exps'][exp]"
   ]
  },
  {
   "cell_type": "code",
   "execution_count": 26,
   "metadata": {},
   "outputs": [
    {
     "data": {
      "text/markdown": [
       "Setting up and testing a unity gain amplifier using an IC 741 operational amplifier is a common laboratory exercise in electronics. Below are the required materials and the detailed experiment procedure.\n",
       "\n",
       "### Required Materials:\n",
       "1. **IC 741 Operational Amplifier** - This is the main component that will perform the amplification.\n",
       "2. **Breadboard** - Used to easily connect and test circuits without soldering.\n",
       "3. **DC Power Supply (±15V)** - The IC 741 requires a dual power supply for its operation; ±15V is often recommended.\n",
       "4. **Resistors**: Two resistors of the same value, typically 10kΩ each are used in this setup to ensure unity gain.\n",
       "5. **Potentiometer (optional)** - Can be used if you want to adjust the input signal for testing purposes.\n",
       "6. **Signal Generator** - To provide an AC input signal for testing the amplifier's performance.\n",
       "7. **Oscilloscope** - Essential for measuring and observing the input and output signals.\n",
       "8. **Connecting Wires** - To connect different components on the breadboard.\n",
       "\n",
       "### Experiment Procedure:\n",
       "\n",
       "1. **Preparation:**\n",
       "   - Assemble all necessary materials before starting your experiment.\n",
       "   - Ensure that you understand how to use an oscilloscope, signal generator, and other electronic equipment in your lab.\n",
       "\n",
       "2. **Setting Up the Circuit:**\n",
       "   - Insert the IC 741 into the breadboard ensuring that pin 1 (the offset null) is oriented correctly. This will often be marked with a dot or half-moon shape on the component itself.\n",
       "   - Connect pin 4 of the IC to ground (0V).\n",
       "   - Pin 2 should be connected to your input signal through one resistor, and also connect this same resistor from pin 3 (output) back to pin 2. This forms a unity gain buffer configuration where the output is equal in magnitude but in phase with the input.\n",
       "   - Connect pin 7 (+Vcc) to +15V of the DC power supply and pin 8 (-Vcc) to -15V.\n",
       "\n",
       "3. **Connecting Input Signal:**\n",
       "   - Use your signal generator to produce an AC voltage output, which you will feed into pin 2 (the non-inverting input).\n",
       "   - Adjust the frequency and amplitude as needed for testing purposes.\n",
       "   \n",
       "4. **Testing the Amplifier:**\n",
       "   - Connect the oscilloscope probes:\n",
       "     - One probe on the input signal line just before it reaches IC741's pin 2 to observe the original input signal.\n",
       "     - Another probe on pin 3 of the IC, which is your output signal.\n",
       "   - Observe both signals on the oscilloscope. The goal here is for the amplitude and frequency of the two waveforms to be identical (within a small margin due to real-world component tolerances), indicating that you've achieved unity gain.\n",
       "\n",
       "5. **Data Recording:**\n",
       "   - Record the input voltage and output voltage values observed using the oscilloscope.\n",
       "   - Note any discrepancies or anomalies in your measurements for further analysis.\n",
       "\n",
       "6. **Analysis:**\n",
       "   - Compare the input and output signals. Ideally, with a properly constructed circuit, the ratio of the peak-to-peak amplitude of the output signal to that of the input signal should be close to 1 (or unity gain).\n",
       "   - Discuss any variations from expected results considering factors such as component tolerances or environmental noise.\n",
       "\n",
       "7. **Conclusion:**\n",
       "   - Summarize your findings and discuss the success rate of achieving a unity gain amplifier.\n",
       "   - Reflect on possible improvements for future setups if there were any issues encountered during testing.\n",
       "\n",
       "This setup provides you with a foundational understanding of operational amplifiers and how they can be used in simple configurations like buffers, which are essential in many practical applications."
      ],
      "text/plain": [
       "<IPython.core.display.Markdown object>"
      ]
     },
     "metadata": {},
     "output_type": "display_data"
    }
   ],
   "source": [
    "from IPython.display import display, Markdown\n",
    "display(Markdown(md_content))"
   ]
  },
  {
   "cell_type": "code",
   "execution_count": null,
   "metadata": {},
   "outputs": [],
   "source": []
  }
 ],
 "metadata": {
  "kernelspec": {
   "display_name": ".venv",
   "language": "python",
   "name": "python3"
  },
  "language_info": {
   "codemirror_mode": {
    "name": "ipython",
    "version": 3
   },
   "file_extension": ".py",
   "mimetype": "text/x-python",
   "name": "python",
   "nbconvert_exporter": "python",
   "pygments_lexer": "ipython3",
   "version": "3.12.9"
  }
 },
 "nbformat": 4,
 "nbformat_minor": 2
}
