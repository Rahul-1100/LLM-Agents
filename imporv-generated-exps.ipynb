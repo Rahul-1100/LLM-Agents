{
 "cells": [
  {
   "cell_type": "code",
   "execution_count": 26,
   "metadata": {},
   "outputs": [],
   "source": [
    "from typing import (\n",
    "    Annotated,\n",
    "    Sequence,\n",
    "    TypedDict,\n",
    "    Union,\n",
    "    List\n",
    ")\n",
    "from langchain_core.messages import BaseMessage\n",
    "from langgraph.graph.message import add_messages\n",
    "from langchain_community.tools import DuckDuckGoSearchResults\n",
    "from langgraph.prebuilt import ToolNode\n",
    "from langchain_community.utilities import DuckDuckGoSearchAPIWrapper\n",
    "from langchain_ollama import ChatOllama\n",
    "from langchain_core.messages import ToolMessage,SystemMessage\n",
    "from langchain_core.runnables import RunnableConfig\n",
    "from pydantic import BaseModel, Field\n",
    "from langchain_community.tools import WikipediaQueryRun\n",
    "from langchain_community.utilities import WikipediaAPIWrapper\n",
    "import json\n",
    "\n",
    "class VerifierBase(BaseModel):\n",
    "    step: str = Field(..., description=\"The step as given in the experiment.\")\n",
    "    search_query: str = Field(..., description=\"The phrase or keywords you would search on the web to verify the step.\")\n",
    "    verification: str = Field(..., description=\"The expected correct verification result based on technical knowledge and search results.\")\n",
    "\n",
    "class VerifierStructure(BaseModel):\n",
    "    steps: List[VerifierBase] = Field(..., description=\"A list of verification steps, each containing step details, search query, and verification result.\")\n",
    "\n",
    "class AgentState(TypedDict):\n",
    "    \"\"\"The state of the agent.\"\"\"\n",
    "\n",
    "    # add_messages is a reducer\n",
    "    # See https://langchain-ai.github.io/langgraph/concepts/low_level/#reducers\n",
    "    messages: Annotated[Sequence[BaseMessage], add_messages]\n",
    "    generated_exps: dict\n",
    "    exp_title:str\n",
    "    reward:Union[int,float]\n",
    "    verified_structure: list\n",
    "    tool_results : dict\n",
    "\n",
    "wikipedia = WikipediaQueryRun(api_wrapper=WikipediaAPIWrapper())\n",
    "wrapper = DuckDuckGoSearchAPIWrapper(max_results=3)\n",
    "search = DuckDuckGoSearchResults(api_wrapper=wrapper, output_format='list')\n",
    "\n",
    "tools = [search,wikipedia]\n",
    "# model = ChatOllama(model=\"qwq\",base_url=\"192.168.23.138:11439\")\n",
    "# model = ChatOllama(model=\"jacob-ebey/phi4-tools:latest\",base_url=\"192.168.23.138:11439\")\n",
    "model = ChatOllama(model=\"qwen2.5:32b\",base_url=\"192.168.23.138:11439\")\n",
    "tool_model = model.bind_tools(tools)\n",
    "verifier_model = model.with_structured_output(VerifierStructure,method='json_schema')"
   ]
  },
  {
   "cell_type": "code",
   "execution_count": 27,
   "metadata": {},
   "outputs": [],
   "source": [
    "verifier_system_prompt = '''You are a Verifier AI responsible for checking the accuracy of experimental steps across various scientific and technical domains. Your task is to verify whether each step is correct by using reasonable web searches.\n",
    "\n",
    "For each step in the experiment, you will:\n",
    "\n",
    "Identify the key concept(s) involved.\n",
    "Generate an appropriate search query to verify the correctness of the step.\n",
    "Validate the step by using the search results to confirm or correct the instruction.\n",
    "Your output should be structured in JSON format with the following fields:\n",
    "\n",
    "\"step\": The step as given in the experiment.\n",
    "\"search_query\": The phrase or keywords you would search on the web to verify the step.\n",
    "\"verification\": The expected correct verification result based on technical knowledge and search results.\n",
    "Be precise, factual, and ensure that the verification aligns with established scientific and technical principles'''"
   ]
  },
  {
   "cell_type": "code",
   "execution_count": 28,
   "metadata": {},
   "outputs": [],
   "source": [
    "def seed_generator(state:AgentState):\n",
    "    exp_generated = model.invoke(state['messages'])\n",
    "    return {\"generated_exps\":{state[\"exp_title\"]:exp_generated.content}}\n",
    "\n",
    "def verifier_generator(state:AgentState):\n",
    "    system_prompt = SystemMessage(verifier_system_prompt)\n",
    "    struct = verifier_model.invoke([system_prompt]+[str(state[\"generated_exps\"])])\n",
    "    # print(struct.steps)\n",
    "    \n",
    "    return {\"verified_structure\":struct.steps}\n",
    "tools_by_name = {tool.name: tool for tool in tools}\n",
    "def tool_decider_node(state:AgentState):\n",
    "    system_prompt = '''you are given the following \n",
    "    1. step: which a step from the experiment\n",
    "    2. search_query: the query which you have to search \n",
    "    you have to make a tool call or tool calls(multiple) which might give the best possible answer try to use all tools which are provided'''\n",
    "    all_step_tool_results =[]\n",
    "    for s in state['verified_structure']:\n",
    "        query = dict(s)\n",
    "        query.pop('verification')\n",
    "        tool_results = {\"step\": query[\"step\"]}\n",
    "        resp = tool_model.invoke([SystemMessage(system_prompt)]+ [str(query)])\n",
    "        all_step_tool_results.append(tool_results)\n",
    "        for tool_call in resp.tool_calls:\n",
    "            tool_result = tools_by_name[tool_call[\"name\"]].invoke(tool_call[\"args\"])\n",
    "            if tool_call[\"name\"] == 'duckduckgo_results_json':\n",
    "                \n",
    "                snippets = []\n",
    "                for snippet in tool_result:\n",
    "                    snippets.append(snippet['snippet'])\n",
    "                tool_results.update({\"duckduckgo\": snippets})\n",
    "            elif tool_call[\"name\"] == \"wikipedia\":\n",
    "                # print(type(tool_result))\n",
    "                tool_results.update({\"wiki\": tool_result})\n",
    "            # print(tool_result)\n",
    "        \n",
    "    return{\"tool_results\":all_step_tool_results}"
   ]
  },
  {
   "cell_type": "code",
   "execution_count": 29,
   "metadata": {},
   "outputs": [],
   "source": [
    "from langgraph.graph import StateGraph, END\n",
    "workflow = StateGraph(AgentState)\n",
    "workflow.add_node(\"generator\",seed_generator)\n",
    "workflow.add_node(\"verifier\",verifier_generator)\n",
    "workflow.add_node(\"toolcaller\",tool_decider_node)\n",
    "workflow.set_entry_point(\"generator\")\n",
    "workflow.set_finish_point(\"toolcaller\")\n",
    "workflow.add_edge(\"generator\",\"verifier\")\n",
    "workflow.add_edge(\"verifier\",\"toolcaller\")\n",
    "graph = workflow.compile()"
   ]
  },
  {
   "cell_type": "code",
   "execution_count": 30,
   "metadata": {},
   "outputs": [
    {
     "name": "stderr",
     "output_type": "stream",
     "text": [
      "c:\\Users\\rahul\\OneDrive\\Documents\\Python Scripts\\LLM-Agents\\.venv\\Lib\\site-packages\\wikipedia\\wikipedia.py:389: GuessedAtParserWarning: No parser was explicitly specified, so I'm using the best available HTML parser for this system (\"lxml\"). This usually isn't a problem, but if you run this code on another system, or in a different virtual environment, it may use a different parser and behave differently.\n",
      "\n",
      "The code that caused this warning is on line 389 of the file c:\\Users\\rahul\\OneDrive\\Documents\\Python Scripts\\LLM-Agents\\.venv\\Lib\\site-packages\\wikipedia\\wikipedia.py. To get rid of this warning, pass the additional argument 'features=\"lxml\"' to the BeautifulSoup constructor.\n",
      "\n",
      "  lis = BeautifulSoup(html).find_all('li')\n"
     ]
    }
   ],
   "source": [
    "exp = \"To set up and test a unity gain amplifier using an IC 741 operational amplifier.\"\n",
    "\n",
    "query = f\"what should be the required materials and experiment procedure of the following lab Experiment ({exp})?\"\n",
    "def print_stream(stream):\n",
    "    for s in stream:\n",
    "        message = s[\"messages\"][-1]\n",
    "        if isinstance(message, tuple):\n",
    "            print(message)\n",
    "        else:\n",
    "            message.pretty_print()\n",
    "\n",
    "\n",
    "inputs = {\"messages\": [(\"user\", query)], \"exp_title\":exp,\"verified_structure\":[]}\n",
    "final = graph.invoke(inputs)\n",
    "# print_stream(graph.stream(inputs, stream_mode=\"values\"))"
   ]
  },
  {
   "cell_type": "code",
   "execution_count": 39,
   "metadata": {},
   "outputs": [
    {
     "name": "stdout",
     "output_type": "stream",
     "text": [
      "{'step': 'Place the 741 operational amplifier on a breadboard.', 'duckduckgo': ['Place the IC 741 on the breadboard. Connect a resistor from the input signal to the inverting input (pin 2). Connect a capacitor (pin 6) between the inverting input and output. Connect the non-inverting input to the ground (pin 3). Make sure the power connections are: pin 4 to -15V, pin 7 to +15V. Use a signal generator to apply a sine wave (1 ...', 'Ãƒâ€šÃ‚Â· Pin diagram of the IC 741. Ãƒâ€šÃ‚Â· The resistor and capacitor values available on the board to be used in the circuit design. ... 3. Place all the components on the breadboard. IC 741, resistor, capacitor on the virtual breadboard. 4. ... 8. After verifying the circuit using verify icon on breadboard, lock the ...', '9) 741 Touch Switch Circuit. This IC 741 touch switch circuit a sensitive touch-operated switch, which could also be applied (if you like) like a rain detector.. As shown in the figure Pin 3 of the IC 741 is fixed by resistors R1 and R2. Inverting input (pin 2) is taken to the slider arm of the preset R3, that enables you to set the activation limit.', \"The below IC 741 Pin Diagram illustrates the pin configurations and internal block diagram of IC 741 in 8 pin DIP and TO5-8 metal can package. 741 IC Op Amplifier Circuit Functions. Now let's take a look at the functions of different pins of 741 IC op-amp circuits:\"]}\n",
      "{'step': 'Connect pin 4 (V-) of the op-amp to ground.', 'duckduckgo': [\"We couldn't find the information on the manufacturer of the second TO5-8 Metal can package IC. Pinout Of IC 741 Op Amp (Pin Diagram) An IC 741 op-amp package consists of 8 pins. The below IC 741 Pin Diagram illustrates the pin configurations and internal block diagram of IC 741 in 8 pin DIP and TO5-8 metal can package.\", \"IC 741 Pinout Diagram. The IC 741 is an 8-pin dual in-line package (DIP) component. Below is a description of the pinout: Here's what each pin does: Pin 1 (Offset Null 1): This pin is used for adjusting the offset voltage of the op-amp. Offset nulling is necessary to eliminate any small voltage difference between the two inputs when no input ...\", 'It is a relatively advanced integrated circuit packed in a plastic eight-pin DIP-8 package. The LM741 has also been around for some time now but remains popular. ... Internal SInternal Structure of 741 OP-AMP Pinout. Pin 1—Offset null; Pin 2—Inverting input; Pin 3—Non-Inverting input; ... Active bass booster circuit using 741; Automatic ...', 'The IC 741 works as a differential amplifier. When we applied the same voltage to the Inverting Input Terminal(Pin 2) and Non-inverting input terminal(pin3), ideally there is no voltage occurs in the output terminal(pin6).']}\n",
      "{'step': 'Connect pin 8 (V+) and pin 7 (V-) of the op-amp to your DC power supply.', 'duckduckgo': ['This OP-AMP power supply circuit can give you many things. First, the output supply voltage range: 0 volts to 30 volts. Second, the output current maximum: 2A (requires 2A transformer). Third, Overload protection with LED display. How this circuit works. Look in 0-30V, 1A, Variable power supply using IC-741,2N3055, and 2N3565', 'An OP-AMP usually requires a dual-polarity power supply to operate; for the LM741, it is recommended for a 4.5V to 18V power supply. ... How 741 Op-Amp Power supply Circuit works. TL084 circuits JFET Input Op-amp datasheet. NE5532 Pinout Datasheet Dual low noise op-amp. Apichet Garaipoom.', '6) Stabilized Power Supply Circuit Using opamp IC 741. The final diagram of this article shows a classic stabilized voltage DC power supply using 741 opamp circuit design. A cheap zener / resistor voltage reference is used to provide a reasonably stable reference to the non-inverting input of the IC.', 'IC 741 op amp is the most popular general-purpose operational amplifier in history. It can be found easily in the nearby radio shop. During its time, it was first opamp to solve the phase reversal problem. ... Supply Voltage: The 741 op-amp typically operates with a dual power supply voltage range of ±5V to ±18V, though it can sometimes work ...']}\n",
      "{'step': 'Connect the input signal from your function generator to pin 2 (V+) of the op-amp.', 'duckduckgo': ['The number 741 indicates that this operational amplifier IC has 7 functional pins, 4 pins capable of taking input and 1 output pin. IC 741 OpAmp can provide high voltage gain and can be operated over a wide range of voltages, which makes it the best choice for use in integrators, summing amplifiers and general feedback applications.', 'A non-inverting amplifier, on the other hand, amplifies the input signal proportional to the gain without inverting it. In a non-inverting configuration, the negative input, or the inverting pin, is connected to the ground instead. ... NE5532 | 741 | LM382. Unity Gain Follower Or Buffer Circuit Using LM741. A buffer circuit connects two ...', 'The operational amplifier in a voltage follower circuit produces an output voltage that precisely follows the input voltage.. It is also referred to as a buffer amplifier or unity gain amplifier. Because of its price and adaptability, the IC 741 is a popular option for op amp.. The high input impedance and low output impedance of a voltage follower are two of its main advantages.', 'The circuit is easy to build with minimum hardware. It uses an IC LM741, a variable resistor of 10K, a general-purpose 1K ohm resistor, a battery, and an input signal source. The input is applied to the non-inverting terminal of the IC, while the inverting terminal is coupled with the output for the negative voltage feedback.']}\n",
      "{'step': 'Connect pin 3 (output) directly back to pin 2 (inverting input).', 'duckduckgo': ['If the value of feedback resistor R 2 is made 0, the gain equals 1 and the Op-Amp configuration behaves as a \"unity gain buffer\" or a voltage follower. 741 Op-Amp Circuits Applications. Below are the applications of IC 741 Op Amp across different use cases:', 'The LM741 is an easy-to-use OP-AMP with enough quality to use at many levels, which is why it is very popular. An OP-AMP like the LM741 is still useful even in a complicated electronic circuit. The examples given are only some of the circuits; the LM741 could still be used in many different circuits.', 'Pin 1 and pin 5 are used for offset voltage in op-amp IC 741. Because of the higher voltage gain of op-amp IC 741, even minimal variation of voltage at inverting and non-inverting inputs caused due to abnormalities in construction procedure or other external disturbances can influence the output voltage. To overcome this effect, an offset value ...', 'The main operational element in this circuit is a 741 op-amp IC. ... The dual power supply circuit is actually simply an unity gain amplifier consisting of a high input ... an IC 741 operational amplifier is employed as a component with both high input impedance and substantial AC gain. This configuration enables the creation of a noise source ...']}\n",
      "{'step': 'Add decoupling capacitors across each power supply line and ground.', 'duckduckgo': [\"Here, we shall define decoupling capacitors and their role in electronic circuits and compare them with coupling and bypass capacitors. Finally, you should know about decoupling capacitor placement and applications. ... · Low ESR and low ESL capacitors are preferred for the digital PDN. 0.1uF to 1uF capacitors are placed near the IC's power ...\", 'You have to use a decoupling capacitor on every IC. One capacitor should be in PCB. Commonly a 0.1µF. Provides the means to absorb voltage transients by supplying current during switching of the IC. Try to include even bigger capacitors, 1µF or 10µF. The decoupling capacitors help in providing a regulated voltage and at the same time filter ...', 'The general rule for NE555 installations is a 0.1 μF at the IC power pins and 10 to 47 μF across the power rails. Like Reply. Ian0. Joined Aug 7, 2020 11,492. Feb 7, 2025 #9 MrChips said: ... The purpose of power supply decoupling capacitors is two-fold, (1) to prevent a device from injecting noise into the supply line and (2) to prevent ...', 'The decoupling capacitors form an LC low pass filter along with intentional ferrite beads (or inductors), which suppress the high-frequency switching noise of the power supply. Having a well-designed decoupling capacitor network and an intentional inductor before the decoupling capacitor helps achieve good PSRR throughout the frequency range.']}\n",
      "{'step': 'Apply a signal from your function generator to pin 2 of the IC.', 'duckduckgo': ['Achieving unity gain in an amplifier circuit involves managing four crucial entities: feedback loop, operational amplifier, inverting input, and non-inverting input. By establishing a closed-loop feedback configuration, the operational amplifier compares the output signal to the input signal. The inverting input receives a feedback voltage proportional to the output, while the non-inverting ...', 'The idea of a unity gain amplifier (voltage follower) is to copy the input voltage and apply the \"copy\" across the load. The clever trick here is that this copy is created by another voltage source (power supply), and not by the input voltage source. It is powerful enough to pass a high enough current through the load.', 'The op amp based unity gain amplifier provide the proper isolation of the preceding and the following stage. The high input impedance and low output impedance will manage the isolation effectively. Signal buffering. The unity gain amplifiers act like the buffer. The input signal will not be affected while connecting the output.', 'This circuit generates an output signal with an adjustable phase shift (ranging from 0° to 180°) while maintaining a constant amplitude.It is basically a signal phase shifting circuit.The behavior of the circuit can be best understood using a phasor diagram of voltages. If the input signal is represented as a unit vector along the real axis, the resulting signals appear as shown in figure below.']}\n",
      "{'step': 'Observe both input and output signals using an oscilloscope.', 'duckduckgo': ['The -3 dB point wout be for the unity gain in the follower circuit. For the gain bw product one is interested in the range with -20 dB/decade slope a little below the unitiy gain BW. In most cases a frequency roughly a factor 10 to 100 below the GBW is used. So measure the gain there and than calculate frequency times measured open loop gain.', '1. As discussed in article, I have created a voltage follower circuit using AD8602ARMZ op-amp. 2. I have verified that the op-amp circuit is working my measuring the input and output voltage 4. Used an Arduino to generate PWM signals for the input signal of voltage follower 5.', \"simulate this circuit - Schematic created using CircuitLab. A unity-gain amplifier (a.k.a. buffer) naturally has a very high (theoretically infinite) input impedance so if you use a buffer as a load then still most of the signal will drop across the load (buffer's input). The buffer normally uses a separate power source to shape the output ...\", 'Non-Inverting Amplifier Circuit Using 741 Op-Amp. Below is the circuit diagram of a non-inverting amplifier using 741 IC and two resistors. This arrangement is named as non-inverting because it amplifies the input signal, while retaining the same polarity. Gain of the amplifier is given by the formula: Gain (A V) = 1 + (R 2 / R 1)']}\n",
      "{'step': 'Measure both input and output voltages using the oscilloscope to ensure they match.', 'duckduckgo': ['By matching the feedback resistor R7 into 20k yield the unity gain response at low frequency, but that still cannot achieve unity gain response with OPA140 ... But, if your application is not for an oscilloscope front end, and you are looking for any op amp that can give you unity gain response from DC-100MHz, you can go with OPA814 as ...', \"LT1028 is specified as not unity gain stable, and stable as inverting with gain -1. The fact it's not unity gain stable is visible on the phase margin plot (datasheet page 8), which shows zero phase margin when open loop gain reaches unity. LT1128 is specified as unity gain stable. They also provide a phase margin plot on the same page.\", \"Difference between unity gain and actual gain at 180° phase shift: Positive value (dB) Phase Margin: ... Oscilloscope measurements let engineers see time-domain oscillations directly. This gives a clear sign of any unwanted oscillations. By looking at the circuit's waveforms, they can spot self-oscillations, parasitic oscillations, or other ...\", 'The op amp slew rate has a rise-time of a several 100ns, while a 100MHz scope has a risetime on the order of a few ns. Even a 10MHz scope should be adequate. (Sim below showing the effect of a 10MHz, 1-pole LP filter on the slew-rate signal, which basically just delays the signal slightly).']}\n"
     ]
    }
   ],
   "source": [
    "for i in final['tool_results']:\n",
    "    if 'wiki' in i.keys():\n",
    "        i.pop('wiki')\n",
    "    print(i)"
   ]
  },
  {
   "cell_type": "code",
   "execution_count": 33,
   "metadata": {},
   "outputs": [
    {
     "data": {
      "text/plain": [
       "9"
      ]
     },
     "execution_count": 33,
     "metadata": {},
     "output_type": "execute_result"
    }
   ],
   "source": [
    "len([dict(i) for i in final['verified_structure']])"
   ]
  },
  {
   "cell_type": "code",
   "execution_count": 34,
   "metadata": {},
   "outputs": [],
   "source": [
    "md_content = final['generated_exps'][exp]"
   ]
  },
  {
   "cell_type": "code",
   "execution_count": 35,
   "metadata": {},
   "outputs": [
    {
     "data": {
      "text/markdown": [
       "Setting up and testing a unity gain amplifier using an IC 741 operational amplifier is a fundamental electronics laboratory experiment. This experiment demonstrates the concept of voltage follower, which is a configuration where the output voltage equals the input voltage, hence the term \"unity gain.\"\n",
       "\n",
       "### Required Materials:\n",
       "1. **IC 741 Operational Amplifier**\n",
       "2. **DC Power Supply** - to power the IC 741\n",
       "3. **Function Generator or Signal Source** - to provide an input signal for testing the amplifier\n",
       "4. **Oscilloscope** - to observe and measure both input and output signals\n",
       "5. **Breadboard** and connecting wires\n",
       "6. **Resistors**:\n",
       "   - 2 x 10kΩ resistors (for biasing the IC, if needed)\n",
       "7. **Capacitors**: \n",
       "   - Decoupling capacitors (e.g., 10µF) to stabilize power supply inputs\n",
       "\n",
       "### Experiment Procedure:\n",
       "\n",
       "#### Step 1: Circuit Setup\n",
       "1. Place the 741 operational amplifier on a breadboard.\n",
       "2. Connect pin 4 (V-) of the op-amp to ground. This is typically done in all op-amp configurations.\n",
       "3. Connect pin 8 (V+) and pin 7 (V-) of the op-amp to your DC power supply. Typically, you would connect V+ to +15V and V- to -15V or use a single-ended positive voltage with ground for V- if that's what your setup allows.\n",
       "4. Connect the input signal from your function generator to pin 2 (V+) of the op-amp.\n",
       "5. Connect pin 3 (output) directly back to pin 2 (inverting input). This direct connection is how we achieve unity gain, as there’s no feedback resistor or any other components that would modify the ratio between the input and output.\n",
       "\n",
       "#### Step 2: Decoupling Capacitors\n",
       "1. Add decoupling capacitors across each power supply line and ground to stabilize voltage levels at the op-amp pins (between V+ and GND, and V- and GND).\n",
       "\n",
       "#### Step 3: Testing the Unity Gain Amplifier\n",
       "1. Turn on your DC power supply.\n",
       "2. Apply a signal from your function generator to pin 2 of the IC.\n",
       "3. Observe both input and output signals using an oscilloscope:\n",
       "   - Connect one channel of the oscilloscope to the point where you apply the signal (input).\n",
       "   - Connect another channel to the output (pin 3) of the op-amp.\n",
       "4. Adjust the function generator settings such as frequency, amplitude, and offset if needed to observe the behavior of your amplifier under different conditions.\n",
       "\n",
       "#### Step 4: Measurement and Analysis\n",
       "1. Measure both input and output voltages using the oscilloscope to ensure they match (within the range allowed by the op-amp's specifications).\n",
       "2. Analyze waveforms for any distortion or changes in amplitude.\n",
       "3. Record observations about how well the amplifier maintains unity gain under different signal conditions.\n",
       "\n",
       "#### Step 5: Safety Precautions\n",
       "1. Ensure that all connections are secure to prevent short circuits.\n",
       "2. Use appropriate power supply voltages; typically, ±15V is safe for an op-amp like the IC 741.\n",
       "3. Be cautious when handling electrical components and always ensure the circuit is powered off before making any physical changes.\n",
       "\n",
       "This experiment provides a basic understanding of operational amplifiers in unity gain configuration and serves as a foundation to explore more complex applications such as non-inverting, inverting amplifiers, or integrators/differentiators."
      ],
      "text/plain": [
       "<IPython.core.display.Markdown object>"
      ]
     },
     "metadata": {},
     "output_type": "display_data"
    }
   ],
   "source": [
    "from IPython.display import display, Markdown\n",
    "display(Markdown(md_content))"
   ]
  },
  {
   "cell_type": "code",
   "execution_count": null,
   "metadata": {},
   "outputs": [],
   "source": []
  }
 ],
 "metadata": {
  "kernelspec": {
   "display_name": ".venv",
   "language": "python",
   "name": "python3"
  },
  "language_info": {
   "codemirror_mode": {
    "name": "ipython",
    "version": 3
   },
   "file_extension": ".py",
   "mimetype": "text/x-python",
   "name": "python",
   "nbconvert_exporter": "python",
   "pygments_lexer": "ipython3",
   "version": "3.12.9"
  }
 },
 "nbformat": 4,
 "nbformat_minor": 2
}
